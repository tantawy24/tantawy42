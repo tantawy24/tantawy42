{
 "cells": [
  {
   "cell_type": "code",
   "execution_count": 2,
   "id": "074f2185",
   "metadata": {},
   "outputs": [
    {
     "name": "stdout",
     "output_type": "stream",
     "text": [
      "enter the number : 4\n",
      "enter the number : 7\n",
      "enter the number : 8\n",
      "enter the number : 9\n",
      "enter the number : 10\n",
      "enter the number : 8\n",
      "enter the number : 0\n",
      "46\n"
     ]
    }
   ],
   "source": [
    "sum=0\n",
    "while True:\n",
    "    num1=int(input(\"enter the number : \"))\n",
    "    if num1==0:\n",
    "        break\n",
    "    sum+=num1\n",
    "print(sum)"
   ]
  },
  {
   "cell_type": "code",
   "execution_count": 3,
   "id": "01bbbf34",
   "metadata": {},
   "outputs": [
    {
     "name": "stdout",
     "output_type": "stream",
     "text": [
      "even\n",
      "odd\n",
      "odd\n"
     ]
    }
   ],
   "source": [
    "def tnt(num):\n",
    "    if num%2==0:\n",
    "        print(\"even\")\n",
    "    else:\n",
    "        print(\"odd\")\n",
    "tnt(6)\n",
    "tnt(7)\n",
    "tnt(25)"
   ]
  },
  {
   "cell_type": "code",
   "execution_count": 5,
   "id": "14e12ba0",
   "metadata": {},
   "outputs": [
    {
     "name": "stdout",
     "output_type": "stream",
     "text": [
      "factorial is  15511210043330985984000000\n"
     ]
    }
   ],
   "source": [
    "n=25\n",
    "fact=1\n",
    "\n",
    "for i in range(1,n+1):\n",
    "    fact= fact*i\n",
    "print(f\"factorial is \", fact)"
   ]
  },
  {
   "cell_type": "code",
   "execution_count": 8,
   "id": "3c6b3b57",
   "metadata": {},
   "outputs": [
    {
     "name": "stdout",
     "output_type": "stream",
     "text": [
      "enter a stringtantawy\n",
      "t \t 116\n",
      "a \t 97\n",
      "n \t 110\n",
      "t \t 116\n",
      "a \t 97\n",
      "w \t 119\n",
      "y \t 121\n"
     ]
    }
   ],
   "source": [
    "tantawy= input(\"enter a string\")\n",
    "for char in tantawy:\n",
    "    ascii= ord (char)\n",
    "    print(char ,\"\\t\", ascii)"
   ]
  },
  {
   "cell_type": "code",
   "execution_count": null,
   "id": "06526bcb",
   "metadata": {},
   "outputs": [],
   "source": [
    "#radius\n",
    "radius= float(input(\"enter the radius is  : \"))\n",
    "#pi\n",
    "pi=22/7\n",
    "#perimeter\n",
    "perimeter= 2 * radius * pi\n",
    "area = radius * radius * pi\n",
    "print(f\" perimeter\",perimeter)\n",
    "print(f\"area\", area)"
   ]
  },
  {
   "cell_type": "code",
   "execution_count": null,
   "id": "555ca243",
   "metadata": {},
   "outputs": [],
   "source": [
    "#radius\n",
    "radius= float(input(\"enter the radius is  : \"))\n",
    "#pi\n",
    "pi=22/7\n",
    "#perimeter\n",
    "perimeter= 2 * radius * pi\n",
    "area = radius * radius * pi\n",
    "print(f\" perimeter\",perimeter)\n",
    "print(f\"area\", area)"
   ]
  },
  {
   "cell_type": "code",
   "execution_count": null,
   "id": "4d1849b1",
   "metadata": {},
   "outputs": [],
   "source": []
  }
 ],
 "metadata": {
  "kernelspec": {
   "display_name": "Python 3 (ipykernel)",
   "language": "python",
   "name": "python3"
  },
  "language_info": {
   "codemirror_mode": {
    "name": "ipython",
    "version": 3
   },
   "file_extension": ".py",
   "mimetype": "text/x-python",
   "name": "python",
   "nbconvert_exporter": "python",
   "pygments_lexer": "ipython3",
   "version": "3.11.5"
  }
 },
 "nbformat": 4,
 "nbformat_minor": 5
}
