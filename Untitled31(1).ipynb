{
 "cells": [
  {
   "cell_type": "code",
   "execution_count": null,
   "id": "03f65029",
   "metadata": {},
   "outputs": [
    {
     "name": "stdout",
     "output_type": "stream",
     "text": [
      "say something ....\n"
     ]
    }
   ],
   "source": [
    "import speech_recognition as sr\n",
    "r=sr.Recognizer()\n",
    "\n",
    "while True :\n",
    "    with sr.Microphone() as src:\n",
    "        print('say something ....')\n",
    "        r.adjust_for_ambient_noise(src , duration=1)\n",
    "\n",
    "        myaudio=r.listen(src)\n",
    "        mytext=r.recognize_google(myaudio,language=\"ar-EG,en-US\")\n",
    "        mytext=mytext.lower()\n",
    "        print(mytext)"
   ]
  },
  {
   "cell_type": "code",
   "execution_count": null,
   "id": "8ce9de79",
   "metadata": {},
   "outputs": [],
   "source": []
  }
 ],
 "metadata": {
  "kernelspec": {
   "display_name": "Python 3 (ipykernel)",
   "language": "python",
   "name": "python3"
  },
  "language_info": {
   "codemirror_mode": {
    "name": "ipython",
    "version": 3
   },
   "file_extension": ".py",
   "mimetype": "text/x-python",
   "name": "python",
   "nbconvert_exporter": "python",
   "pygments_lexer": "ipython3",
   "version": "3.11.5"
  }
 },
 "nbformat": 4,
 "nbformat_minor": 5
}
